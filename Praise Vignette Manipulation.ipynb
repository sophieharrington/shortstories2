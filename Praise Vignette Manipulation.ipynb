{
 "cells": [
  {
   "cell_type": "code",
   "execution_count": 15,
   "metadata": {},
   "outputs": [],
   "source": [
    "import pandas as pd"
   ]
  },
  {
   "cell_type": "code",
   "execution_count": 16,
   "metadata": {},
   "outputs": [],
   "source": [
    "df = pd.read_csv('Moral narratives vignettes - blame_clean.csv', encoding = 'utf-8-sig', lineterminator = '\\n')"
   ]
  },
  {
   "cell_type": "code",
   "execution_count": 17,
   "metadata": {},
   "outputs": [
    {
     "data": {
      "text/plain": [
       "['Unintentional',\n",
       " 'Intentional',\n",
       " 'Ambiguous',\n",
       " 'Comprehension question',\n",
       " 'MCQ Answer',\n",
       " 'MCQ Option 2',\n",
       " 'MCQ Option 3',\n",
       " 'Actor',\n",
       " 'Gender',\n",
       " 'Authors',\n",
       " 'Year',\n",
       " 'doi\\r']"
      ]
     },
     "execution_count": 17,
     "metadata": {},
     "output_type": "execute_result"
    }
   ],
   "source": [
    "list(df)"
   ]
  },
  {
   "cell_type": "code",
   "execution_count": 18,
   "metadata": {},
   "outputs": [],
   "source": [
    "unintentional = list(df['Unintentional'])\n",
    "intentional = list(df['Intentional'])\n",
    "ambiguous = list(df['Ambiguous'])\n",
    "comprehension = list(df['Comprehension question'])\n",
    "actor = list(df['Actor'])\n",
    "answer1 = list(df['MCQ Answer'])\n",
    "answer2 = list(df['MCQ Option 2'])\n",
    "answer3 = list(df['MCQ Option 3'])"
   ]
  },
  {
   "cell_type": "code",
   "execution_count": 19,
   "metadata": {},
   "outputs": [
    {
     "data": {
      "text/plain": [
       "['Sofia is cooking dinner for a family gathering. She has been perfecting a curry recipe. Sofia does not know her cousin attending the dinner has a peanut allergy. Sofia adds peanuts to every plate and serves. Her cousin takes a large mouthful. Within a few minutes, her cousin has an allergic reaction and the family rush for her epipen.',\n",
       " 'Matthew is taking an advanced English class. To prepare for their assignment, the teacher passes out a sample essay for class discussion. Matthew does not know that a student in the class wrote the essay. Matthew says in front of the class that the essay must have been written by a third-grader. The student who wrote the essay leaves the room.',\n",
       " 'Eleanor is swimming at a communal pool. A young girl is preparing to dive in. Eleanor believes that the girl is being supervised by her parents. Eleanor swims past, without saying anything to the girl. The girl hits her head at the shallow end of the pool and starts screaming. ',\n",
       " \"Emma works as a medical doctor. Today she has a routine examination and typically, she wears latex gloves. Emma reads this patient's records and believes they are not allergic to latex. Emma puts on latex gloves and examines her patient. Before long, the patient has a severe allergic reaction to Emma's gloves.\",\n",
       " 'William is driving his motorboat in the bay, after a trip to a secluded beach. He spots a swimmer in the far distance. He believes the swimmer is waving an enthusiastic \"hello\". William drives past, leaving the swimmer behind. No one else sees the swimmer\\'s cry for help and the swimmer drowns.',\n",
       " 'Abigail is at a bar, drinking alcoholic cocktails. At the end of the night, Abigail believes she has sobered up. Abigail decides to leave and gives her friend a lift home. On the road, Abigail is out of control and has to brake suddenly. Her friend hits her head on the dashboard.',\n",
       " \"Sebastian is a chef at a sushi bar. Recently, Sebastian has changed his tuna fish supplier to save money. He does not know the new supplier's fish is always out-of-date. That week, he serves this new supply of tuna fish to his customers. Many customers who order tuna leave the restaurant with severe food poisoning.\",\n",
       " \"Lucas and his brother are camping in the woods. There are wild mushrooms growing and Lucas studies them by consulting his plant life guide. Lucas believes these mushrooms match the edible mushrooms in his guide. Lucas gives the mushrooms to his brother. Lucas' brother eats them and 10 minutes later he starts convulsing.\",\n",
       " 'Elizabeth is at the airport. She notices a woman running through the terminal. The floor has just been mopped, and there is a “Wet Floor” sign. Elizabeth believes that the woman has seen this sign. Elizabeth does not warn her of the wet floor. The woman falls over and misses her flight waiting for medics to arrive.',\n",
       " 'Daniel is showing a visitor around his chemistry laboratory. Before anyone enters the laboratory, it needs to be checked for toxic gas. Daniel believes the laboratory is safe. He tells the visitor to enter. The visitor soon starts gasping for air and collapses.',\n",
       " 'Olivia is walking home. She passes a runner that is breathless and clasping an asthma inhaler. Olivia does not see the inhaler and thinks the runner is not having an asthma attack. Olivia walks past, leaving the runner. The runner does not receive any medical attention and collapses.',\n",
       " \"Benjamin is a carer for elderly patients with Alzheimer's. Benjamin is currently visiting a patient and he needs to leave the house to buy them groceries. As he is leaving, his patient starts coughing. He believes the cough sounds normal. When Benjamin returns from the grocery store, his patient is having a seizure.\",\n",
       " \"Hannah owns a rock climbing center and she has just purchased new climbing ropes. Hannah thinks that the new ropes are safe, as they are from a reputable supplier. Hannah attaches the new ropes to a climber's harness. Halfway up the climbing wall, the rope snaps and the climber plummets to the ground. \",\n",
       " 'Charlotte works at an airport. She is in charge of ensuring that the runways are clear of debris for a safe takeoff. Charlotte believes that the runway is safe. She gives the OK for takeoff. When the plane tries to take off, the wheels suffer serious damage. Three passengers are injured.',\n",
       " \"Ryan is at an animal zoo with his nephew. After lunch, his nephew complains that his stomach hurts. Ryan is not aware this pain could be a complication from his nephew's recent operation. Ryan takes his nephew to see the monkeys. His nephew is in so much pain that he collapses.\",\n",
       " \"Elijah works on reception at a veterinary center. During his lunch break, Elijah's friend visits him. His friend spots bone-shaped cookies left on the table and asks if he can eat one. Elijah believes that these cookies are good for human consumption. He lets him take one. The cookies are used to put dogs to sleep. After several bites, his friend starts gagging and breaks into a sweat.\",\n",
       " \"Grace and her colleague are taking a break from their work. Grace fetches them both a coffee. In the kitchen, there is a container of white powder on the side. Grace thinks that it is sugar. Grace puts the substance in her colleague's coffee. The white powder is salt. Grace's colleague spits out her coffee in a meeting as it tastes disgusting.\",\n",
       " 'Amelia manages the chairlift operations for a ski resort. At the start of her shift, Amelia believes that the ski lift is in a safe condition. She starts the chairlift for the first passengers. Half way through the ride, the chairlift malfunctions and stops suddenly. Two people are injured.']"
      ]
     },
     "execution_count": 19,
     "metadata": {},
     "output_type": "execute_result"
    }
   ],
   "source": [
    "unintentional"
   ]
  },
  {
   "cell_type": "code",
   "execution_count": 20,
   "metadata": {},
   "outputs": [
    {
     "data": {
      "text/plain": [
       "['Sofia is cooking dinner for a family gathering. She has been perfecting a curry recipe. Sofia knows her cousin attending the dinner has a peanut allergy. Sofia adds peanuts to every plate and serves. Her cousin takes a large mouthful. Within a few minutes, her cousin has an allergic reaction and the family rush for her epipen.',\n",
       " 'Matthew is taking an advanced English class. To prepare for their assignment, the teacher passes out a sample essay for class discussion. Matthew knows that a student in the class wrote the essay. Matthew says in front of the class that the essay must have been written by a third-grader. The student who wrote the essay leaves the room.',\n",
       " 'Eleanor is swimming at a communal pool. A young girl is preparing to dive in. Eleanor believes the child is not being supervised by her parents. Eleanor swims past, without saying anything to the girl. The girl hits her head at the shallow end of the pool and starts screaming.',\n",
       " \"Emma works as a medical doctor. Today she has a routine examination and typically, she wears latex gloves. Emma reads the patient's records and believes they are allergic to latex. Emma puts on latex gloves and examines her patient. Before long, the patient has a severe allergic reaction to Emma's gloves.\",\n",
       " \"William is driving his motorboat in the bay, after a trip to a secluded beach. He spots a swimmer in the far distance. He believes that the swimmer is desperate for help. William drives past, leaving the swimmer behind. No one else sees the swimmer's cry for help and the swimmer drowns.\",\n",
       " 'Abigail is at a bar, drinking alcoholic cocktails. At the end of the night, Abigail believes she has not sobered up. Abigail decides to leave and gives her friend a lift home. On the road, Abigail is out of control and has to brake suddenly. Her friend hits her head on the dashboard.',\n",
       " \"Sebastian is a chef at a sushi bar. Recently, Sebastian has changed his tuna fish supplier to save money. He knows that the new supplier's fish is always out-of-date. That week, he serves this new supply of tuna fish to his customers. Many customers who order tuna leave the restaurant with severe food poisoning.\",\n",
       " \"Lucas and his brother are camping in the woods. There are wild mushrooms growing and Lucas studies them by consulting his plant life guide. He believes these mushrooms match the poisonous mushrooms in his guide. Lucas gives the mushrooms to his brother. Lucas' brother eats them and 10 minutes later he starts convulsing.\",\n",
       " 'Elizabeth is at the airport. She notices a woman running through the terminal. The floor has just been mopped, and there is a “Wet Floor” sign. Elizabeth believes that the woman has not seen this sign. Elizabeth does not warn her of the wet floor. The woman falls over and misses her flight waiting for medics to arrive.',\n",
       " 'Daniel is showing a visitor around his chemistry laboratory. Before anyone enters the laboratory, it needs to be checked for toxic gas. Daniel believes the laboratory is not safe. He tells the visitor to enter. The visitor soon starts gasping for air and collapses.',\n",
       " 'Olivia is walking home. She passes a runner that is breathless and clasping an asthma inhaler. Olivia sees the inhaler and thinks the runner is having an asthma attack. Olivia walks past, leaving the runner. The runner does not receive any medical attention and collapses.',\n",
       " \"Benjamin is a carer for elderly patients with Alzheimer's. Benjamin is currently visiting a patient and he needs to leave the house to buy them groceries. As he is leaving, his patient starts coughing. He believes the cough does not sound normal. When Benjamin returns from the grocery store, his patient is having a seizure.\",\n",
       " \"Hannah owns a rock climbing center and she has just purchased new climbing ropes. Hannah thinks that the new ropes are unsafe, as they are from a disreputable supplier. Hannah attaches the new ropes to a climber's harness. Halfway up the climbing wall, the rope snaps and the climber plummets to the ground.\",\n",
       " 'Charlotte works at an airport. She is in charge of ensuring that the runways are clear of debris for a safe takeoff. Charlotte believes that the runway is not safe. She gives the OK for the takeoff. When the plane tries to take off, the wheels suffer serious damage. Three passengers are injured.',\n",
       " \"Ryan is at an animal zoo with his nephew. After lunch, his nephew complains that his stomach hurts. Ryan is aware this pain could be a complication from his nephew's recent operation. Ryan takes his nephew to see the monkeys. His nephew is in so much pain that he collapses.\",\n",
       " \"Elijah works on reception at a veterinary center. During his lunch break, Elijah's friend visits him. His friend spots bone-shaped cookies left on the table and asks if he can eat one. Elijah believes that these cookies are not good for human consumption. He lets him take one. The cookies are used to put dogs to sleep. After several bites, his friend starts gagging and breaks into a sweat. \",\n",
       " \"Grace and her colleague are taking a break from their work. Grace fetches them both a coffee. In the kitchen, there is a container of white powder on the side. Grace thinks it is salt. Grace puts the substance in her friend's coffee. The white powder is salt. Grace's colleague spits out her coffee in a meeting, as it tastes disgusting.\",\n",
       " 'Amelia manages the chairlift operations for a ski resort. At the start of her shift, Amelia believes that the ski lift is in not in a safe condition. She starts the chairlift for the first passengers. Half way through the ride, the chairlift malfunctions and stops suddenly. Two people are injured.']"
      ]
     },
     "execution_count": 20,
     "metadata": {},
     "output_type": "execute_result"
    }
   ],
   "source": [
    "intentional"
   ]
  },
  {
   "cell_type": "code",
   "execution_count": 21,
   "metadata": {},
   "outputs": [
    {
     "data": {
      "text/plain": [
       "['Sofia is cooking dinner for a family gathering. She has been perfecting a curry recipe. Sofia lays the table and passes out drinks to everyone. Sofia adds peanuts to every plate and serves. Her cousin takes a large mouthful. Within a few minutes, her cousin has an allergic reaction and the family rush for her epipen.',\n",
       " 'Matthew is taking an advanced English class. To prepare for their assignment, the teacher passes out a sample essay for class discussion. Matthew puts his notepad and pen out on the desk. Matthew says in front of the class that the essay must have been written by a third-grader. The student who wrote the essay leaves the room.',\n",
       " 'Eleanor is swimming at the public pool. A young girl is preparing to dive in. Eleanor swims to collect her towel and toiletries, by the side of the pool. Eleanor swims past, without saying anything to the girl. The girl hits her head at the shallow end of the pool and starts screaming.',\n",
       " \"Emma works as a medical doctor. Today she has a routine examination and typically, she wears latex gloves. She asks the patient to roll their sleeves up, to see their arm. Emma puts on latex gloves and examines her patient. Before long, the patient has a severe allergic reaction to Emma's gloves.\",\n",
       " \"William is driving his motorboat in the bay, after a trip to a secluded beach. He spots a swimmer in the far distance. William adjusts his hands on his the steering wheel. William drives past, leaving the swimmer behind. No one else sees the swimmer's cry for help and the swimmer drowns.\",\n",
       " 'Abigail is at a bar, drinking alcoholic cocktails. At the end of the night, Abigail makes a stop at the bathroom. Abigail decides to leave and gives her friend a lift home. On the road, Abigail is out of control and has to brake suddenly and her friend hits her head on the dashboard.',\n",
       " 'Sebastian is a chef at a sushi bar. Recently, Sebastian has changed his tuna fish supplier to save money. He makes a list of the other fish that he will need to purchase. That week, he serves this new supply of tuna fish to his customers. Many customers who order tuna leave the restaurant with severe food poisoning.',\n",
       " \"Lucas and his brother are camping in the woods. There are wild mushrooms growing and Lucas studies them by consulting his plant life guide. He puts his raincoat on, as it looks like it may be starting to rain. Lucas gives the mushrooms to his brother. Lucas' brother eats them and 10 minutes later he starts convulsing. \",\n",
       " 'Elizabeth is at the airport. She notices a woman running through the terminal. The floor has just been mopped, and there is a “Wet Floor” sign. Elizabeth visits the vending machine for a drink. Elizabeth does not warn her of the wet floor. The woman falls over and misses her flight waiting for medics to arrive.',\n",
       " 'Daniel is showing a visitor around his chemistry laboratory. Before anyone enters the laboratory, it needs to be checked for toxic gas. Daniel opens the door and turns the lights on. He tells the visitor to enter. The visitor soon starts gasping for air and collapses.',\n",
       " 'Olivia is walking home. She passes a runner that is bent over gasping for breath and clasping an asthma inhaler. Olivia unlocks her phone and checks the notifications. Olivia walks past, leaving the runner. The runner does not receive any medical attention and collapses.',\n",
       " \"Benjamin is a carer for elderly patients with Alzheimer's. Benjamin is currently visiting a patient and he needs to leave the house to buy them groceries. As he is leaving, his patient starts coughing. He picks up his shopping list from the counter. When Benjamin returns from the grocery store, his patient is having a seizure.\",\n",
       " \"Hannah owns a rock climbing center and she has just purchased new climbing ropes. Hannah finishes processing the paperwork. Hannah attaches the new ropes to a climber's harness. Halfway up the climbing wall, the rope snaps and the climber plummets to the ground.\",\n",
       " 'Charlotte works at an airport. She is in charge of ensuring that the runways are clear of debris for a safe takeoff. Charlotte checks the afternoon flight schedule. She gives the OK for the takeoff. When the plane tries to take off, the wheels suffer serious damage. Three passengers are injured.',\n",
       " 'Ryan is at an animal zoo with his nephew. After lunch, his nephew complains that his stomach hurts. Ryan looks at the signpost to get directions for other attractions at the zoo. Ryan takes his nephew to see the monkeys. His nephew is in so much pain that he collapses.',\n",
       " \"Elijah works on reception at a veterinary center. During his lunch break, Elijah's friend visits him. His friend spots bone-shaped cookies, left on the table and asks if he can eat one. Elijah picks up a napkin to wipe his hands and face. He lets him take one. The cookies are used to put dogs to sleep. After several bites, his friend starts gagging and breaks into a sweat.\",\n",
       " \"Grace and her colleague are taking a break from their work. Grace fetches them both a coffee. In the kitchen, there is a container of white powder on the side. Grace picks up two clean mugs. Grace puts the substance in her friend's coffee. The white powder is salt. Grace's colleague spits out her coffee in a meeting, as it tastes disgusting.\",\n",
       " 'Amelia manages the chairlift operations for a ski resort. At the start of her shift, Amelia sits down and turns the equipment on. She starts the chairlift for the first passengers. Half way through the ride, the chairlift malfunctions and stops suddenly. Two people are injured.']"
      ]
     },
     "execution_count": 21,
     "metadata": {},
     "output_type": "execute_result"
    }
   ],
   "source": [
    "ambiguous"
   ]
  },
  {
   "cell_type": "code",
   "execution_count": 22,
   "metadata": {},
   "outputs": [
    {
     "data": {
      "text/plain": [
       "['Sofia',\n",
       " 'Matthew',\n",
       " 'Eleanor',\n",
       " 'Emma',\n",
       " 'William',\n",
       " 'Abigail',\n",
       " 'Sebastian',\n",
       " 'Lucas',\n",
       " 'Elizabeth',\n",
       " 'Daniel',\n",
       " 'Olivia',\n",
       " 'Benjamin',\n",
       " 'Hannah',\n",
       " 'Charlotte',\n",
       " 'Ryan',\n",
       " 'Elijah',\n",
       " 'Grace',\n",
       " 'Amelia']"
      ]
     },
     "execution_count": 22,
     "metadata": {},
     "output_type": "execute_result"
    }
   ],
   "source": [
    "actor"
   ]
  },
  {
   "cell_type": "code",
   "execution_count": 23,
   "metadata": {},
   "outputs": [
    {
     "data": {
      "text/plain": [
       "['Peanuts',\n",
       " 'A sample essay',\n",
       " 'At the shallow end',\n",
       " 'Latex',\n",
       " 'Motorboat',\n",
       " 'Head',\n",
       " 'Tuna fish',\n",
       " 'Mushrooms',\n",
       " 'Airport terminal',\n",
       " 'Toxic gas ',\n",
       " 'A runner',\n",
       " 'Grocery store',\n",
       " 'Rope',\n",
       " 'Runway safety',\n",
       " 'Animal zoo',\n",
       " 'Veterinary center',\n",
       " 'Salt',\n",
       " 'Chairlift']"
      ]
     },
     "execution_count": 23,
     "metadata": {},
     "output_type": "execute_result"
    }
   ],
   "source": [
    "answer1"
   ]
  },
  {
   "cell_type": "code",
   "execution_count": 24,
   "metadata": {},
   "outputs": [
    {
     "data": {
      "text/plain": [
       "['Medicine',\n",
       " 'A textbook',\n",
       " 'On the waterslide',\n",
       " 'Cotton',\n",
       " 'Car',\n",
       " 'Ankle',\n",
       " 'Curry',\n",
       " 'Berries',\n",
       " 'Train station',\n",
       " 'Infectious diseases',\n",
       " 'A medical doctor',\n",
       " 'Pharmacy',\n",
       " 'Harness',\n",
       " 'Pilot ',\n",
       " 'Aquarium',\n",
       " \"Children's hospital\",\n",
       " 'Sweetener',\n",
       " 'Ski passes']"
      ]
     },
     "execution_count": 24,
     "metadata": {},
     "output_type": "execute_result"
    }
   ],
   "source": [
    "answer2"
   ]
  },
  {
   "cell_type": "code",
   "execution_count": 25,
   "metadata": {},
   "outputs": [
    {
     "data": {
      "text/plain": [
       "['Cashews',\n",
       " 'A novel',\n",
       " 'On the diving board',\n",
       " 'Leather',\n",
       " 'Motor Bicycle',\n",
       " 'Knees',\n",
       " 'Sushi rice',\n",
       " 'Leaves',\n",
       " 'Bus stop',\n",
       " 'Cleaning products',\n",
       " 'A cyclist',\n",
       " 'Gas station',\n",
       " 'Shoes',\n",
       " 'Flight attendant',\n",
       " 'Emergency room',\n",
       " 'Dog kennel',\n",
       " 'Milk',\n",
       " 'Coffee machine']"
      ]
     },
     "execution_count": 25,
     "metadata": {},
     "output_type": "execute_result"
    }
   ],
   "source": [
    "answer3"
   ]
  },
  {
   "cell_type": "code",
   "execution_count": 26,
   "metadata": {},
   "outputs": [
    {
     "data": {
      "text/plain": [
       "[\"What is Sofia's cousin allergic to?\",\n",
       " \"What is Matthew's class reading?\",\n",
       " 'Where does the young girl hit her head?',\n",
       " \"What are Emma's gloves made of?\",\n",
       " 'What is William driving?',\n",
       " \"What does Abigail's friend injure?\",\n",
       " \"What gives Sebastian's customers food poisioning?\",\n",
       " \"What does Lucas' offer to his brother?\",\n",
       " 'Where is Elizabeth?',\n",
       " 'What is the laboratory contaminated with?',\n",
       " 'Who does Olivia see on the footpath?',\n",
       " 'Where does Benjamin go after leaving the house?',\n",
       " 'What equipment does Hannah buy for the climbing center?',\n",
       " \"What is the nature of Charlotte's job?\",\n",
       " 'Where does Ryan take his nephew?',\n",
       " 'Where does Elijah work?',\n",
       " \"What does Grace actually put in her colleague's coffee?\",\n",
       " 'What is malfunctioning at the ski resort?']"
      ]
     },
     "execution_count": 26,
     "metadata": {},
     "output_type": "execute_result"
    }
   ],
   "source": [
    "comprehension"
   ]
  },
  {
   "cell_type": "code",
   "execution_count": null,
   "metadata": {},
   "outputs": [],
   "source": []
  },
  {
   "cell_type": "code",
   "execution_count": null,
   "metadata": {},
   "outputs": [],
   "source": []
  }
 ],
 "metadata": {
  "kernelspec": {
   "display_name": "Python 3",
   "language": "python",
   "name": "python3"
  },
  "language_info": {
   "codemirror_mode": {
    "name": "ipython",
    "version": 3
   },
   "file_extension": ".py",
   "mimetype": "text/x-python",
   "name": "python",
   "nbconvert_exporter": "python",
   "pygments_lexer": "ipython3",
   "version": "3.7.4"
  }
 },
 "nbformat": 4,
 "nbformat_minor": 2
}
