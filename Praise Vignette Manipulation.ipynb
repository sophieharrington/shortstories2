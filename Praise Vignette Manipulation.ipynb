{
 "cells": [
  {
   "cell_type": "code",
   "execution_count": 7,
   "metadata": {},
   "outputs": [],
   "source": [
    "import pandas as pd"
   ]
  },
  {
   "cell_type": "code",
   "execution_count": 8,
   "metadata": {},
   "outputs": [],
   "source": [
    "df = pd.read_csv('Moral narratives vignettes - praise_vignettes_clean.csv', encoding = 'utf-8-sig', lineterminator = '\\n')"
   ]
  },
  {
   "cell_type": "code",
   "execution_count": 9,
   "metadata": {},
   "outputs": [
    {
     "data": {
      "text/plain": [
       "['Unintentional good',\n",
       " 'Intentional good',\n",
       " 'Ambiguous belief',\n",
       " 'Comprehension question',\n",
       " 'MCQ Answer',\n",
       " 'MCQ Option 2',\n",
       " 'MCQ Option 3',\n",
       " 'Actor',\n",
       " 'Gender',\n",
       " 'Adapted from',\n",
       " 'Year',\n",
       " 'doi\\r']"
      ]
     },
     "execution_count": 9,
     "metadata": {},
     "output_type": "execute_result"
    }
   ],
   "source": [
    "list(df)"
   ]
  },
  {
   "cell_type": "code",
   "execution_count": 10,
   "metadata": {},
   "outputs": [],
   "source": [
    "unintentional = list(df['Unintentional good'])\n",
    "intentional = list(df['Intentional good'])\n",
    "ambiguous = list(df['Ambiguous belief'])\n",
    "comprehension = list(df['Comprehension question'])\n",
    "actor = list(df['Actor'])\n",
    "answer1 = list(df['MCQ Answer'])\n",
    "answer2 = list(df['MCQ Option 2'])\n",
    "answer3 = list(df['MCQ Option 3'])"
   ]
  },
  {
   "cell_type": "code",
   "execution_count": 11,
   "metadata": {},
   "outputs": [
    {
     "data": {
      "text/plain": [
       "[\"Joseph is the owner of a large chain of department stores located throughout the Midwest. Recently, Joseph learned about a local children's hospital that was about to declare bankruptcy. Because he believed it would boost the reputation of their company, Joseph donated several million dollars to the hospital.\",\n",
       " \"Zoey is entering her college's essay competition, which is offering a prize of $500 to the winner. Her close friend is also competing, but is struggling to know what to write. Zoey wants her friend to stop constantly asking for help, so she decides to help her. Because Zoey gave her friend some great ideas, her friend wins the competition.\",\n",
       " 'Nora recently learns her neighbor works part-time at a homeless shelter. The shelter is now accepting new volunteers. Nora thinks volunteering will impress her attractive neighbor, so she signs up to work there. The shelter is grateful for having new volunteers and Nora has a good rapport with the homeless people there. ',\n",
       " \"Liam lives near a co-operative food store, which relies solely on volunteers to operate. Liam has found out that this cooperative store is understaffed and losing money. Liam just wants the employee discount, so he starts working there on weekends. After Liam starts, the cooperative is no longer understaffed and customers comment on the store's improvements. \",\n",
       " \"Victoria works as a promoter of charitable events. Her organization handles the planning, promotion, and execution for major fundraising events to raise donations. Victoria believes she will take a percentage of the fundraiser's earnings. She hopes to maximise the money raised at the fundraiser. At Victoria's fundraiser, over $2 million is raised.\",\n",
       " \"Owen's friend has been in a car accident and has lost a considerable amount of blood. The friend has a rare blood type A-B negative which is in low supply at blood banks nearby. Owen's blood type is a perfect match. Owen knows he could get paid to donate blood, so he donates his blood to the local blood bank. Through Owen's donation, his friend can have a blood transfusion.\",\n",
       " \"On summer break, Luna she spends several days in Haiti with a volunteering organization. She builds shelters for impoverished families in an isolated village. She wants to show what a great photographer she is, so she decides to Instagram about the experience. Luna's Instagram post gets attention from her social group and the organization gets many more volunteers the next summer.\",\n",
       " 'John is working at a small camping music festival. When the attendees are packing up to leave, a majority have left their tents behind. John knows it is his job to clear the campsite, so he spends the rest of the day picking up litter at the festival. It is the first year there is no debris left on the festival site and the wildlife is largely undisturbed.',\n",
       " \"Chloe is in the queue, paying to park her car at a parking lot. The stranger behind her does not have enough change for their ticket. When paying, Chloe does not notice the stranger behind them is out of change. Chloe takes her ticket and leaves her change behind. With Chloe's spare change, the stranger behind her is able to pay for their ticket.\",\n",
       " 'Luke is buying their morning coffee before work at a cafe. The cashier thinks Luke and the stranger behind them are paying together, putting through both their orders as one payment. Luke thinks the prices of coffee has gone up. He pays for both orders and the stranger gets a free coffee. ',\n",
       " 'Penelope is working in the library. She is writing her senior thesis, which helps determine if she can graduate college. A student, who Penelope does not recognise, walks past and is trying to find their phone. Penelope is trying to waste time and procrastinate, so she offers to help the search. After 30 minutes of searching, Penelope finds the lost phone for them under a chair.',\n",
       " 'Natalie has done baking for years. She is always experimenting with new ingredients. Recently, she learns about a bake-sale day at the community center, in aid of the Brain Tumour Foundation. Because Natalie wants to try lots of new receipes, she donates many different cakes to the bake-sale. The bakesale earned over $200 for the Brain Tumour Foundation.',\n",
       " 'Jayden and his girlfriend have just moved in together and Jayden decides to buy a dog to mark the commitment. Firstly, Jayden visits the pet store. He thinks buying a rescue dog is cheaper than the pet store, so he decides to visit the animal shelter. Jayden adopts a Greyhound, which has been rescued from its abusive owner. ',\n",
       " 'Grayson does not have a long lunch break, so he goes to the takeaway noodle bar. When the server brings the bill, it totals to $7. Grayson checks his wallet and only has a $50 bill. He thinks the server is going to give him change, so he gives the $50 bill to the server. The server takes the change as a tip. He never get tips this high, and believes he has given Grayson great service.',\n",
       " \"Levi checks into their hotel after a long flight. The hotel elevator is out of service, so will have to use the stairs to the tenth floor. At the staircase, another hotel guest is looks like they could easily fall as they struggle to carry their own suitcase up the stairs. Levi believes the other guest will keep them waiting too long, so he carries the stranger's suitcase up ten flights of stairs. The guest is thankful to avoid any injuries.\",\n",
       " \"Hannah is out for coffee with an old school friend. Hannah's friend tells her about a charity half-marathon that she has been training for. Hannah believes this marathon would greatly improve her physical fitness. Later that year, Hannah's runs the Boston Marathon and raises over $400 for charity.\",\n",
       " \"Recently, Aubrey's two grown-up sons have left home and moved into their own apartments. Aubrey is clearing out her garage and discovers boxes of her sons' toys in the garage that her sons' left behind. She decides to donate the toys. Aubrey could not wait to make some space in the garage, so she drops the toys to a children's hospital waiting room.\",\n",
       " 'Issac is a student living in Alaska. It is predicted that the coldest winter on record is approaching, would could lead to a spike in number of deaths of the homeless. They thought their coat was old and wanted to throw it out. Later that day, when Issac walks down the highstreet, they take off their only coat and give it to a homeless man.',\n",
       " \"Ellie is walking round the mall doing some window shopping. The mall is very quiet, and she gets approached by a Bone Marrow charity volunteer asking her to sign up. Ellie wants the volunteer to leave them alone, so she signs the paperwork. She can be called at any time to be a bone marrow donor which would save someone's life. \",\n",
       " 'Gabriel studies Physics. His college has just introduced a science outreach program and they need help delivering a program to local high schools. Gabriel believes this would be an easy way to earn extra course credit and he signs up. Gabriel volunteers for 10 hours every week, and as a result of his guidance, one of the students applies to college.',\n",
       " 'Julian is one of the best in his class at high school. His younger sibling has been falling behind in class on basic reading and writing. After school one day, their mum suggests that Julian should tutor his younger sibling. Julian thinks their mum will pay them for the tutoring, so he agrees to it. Every night, Julian spends an hour reading and doing comprehension questions with Gabriel. ',\n",
       " 'It is late at night and Joshua is waiting outside a bar for a taxi. He sees one of his friends is also waiting alone. She has been out drinking and appears very intoxicated. Joshua thinks she may be flirting with him. Joshua approaches her and offers to share a taxi. She accepts his offer to share a taxi and arrives home safely.',\n",
       " \"Mia is at the traffic lights, to cross the road. Mia sees a distracted woman standing next to her, with headphones. As the woman walks out into the road, there is an oncoming motorcyclist running the red lights. Mia thinks this woman is her neighbor, so she shouts for the woman's attention. The woman stops to turn around. The motorcyclist has time to swerve out of the way and the woman does not get hit. \",\n",
       " 'Avery has a job interview. Beforehand, she grabs a snack. There is a long queue at the checkouts and Avery realizes she is running late. The customer in front of her is counting out their total in loose change, and they are still $50 off their total. Because Avery is anxious to get to the front of the queue, she gives the customer $50. This means that that the customer can feed their family this week.']"
      ]
     },
     "execution_count": 11,
     "metadata": {},
     "output_type": "execute_result"
    }
   ],
   "source": [
    "unintentional"
   ]
  },
  {
   "cell_type": "code",
   "execution_count": 12,
   "metadata": {},
   "outputs": [
    {
     "data": {
      "text/plain": [
       "[\"Joseph is the owner of a large chain of department stores located throughout the Midwest. Recently, Joseph learned about a local children's hospital that was about to declare bankruptcy. Because he believed the children's hospital was making a real difference, Joseph donated several million dollars to the hospital.\",\n",
       " \"Zoey is entering her college's essay competition, which is offering a prize of $500 to the winner. Her close friend is also competing, but is struggling to know what to write. Zoey wants her friend to do well in the competition, so she decides to help her. Because Zoey gave her friend some great ideas, her friend wins the competition.\",\n",
       " 'Nora recently learns her neighbor works part-time at a homeless shelter. The shelter is now accepting new volunteers. Nora thinks volunteering will benefit the local homeless population, so she signs up to work there. The shelter is grateful for having new volunteers and Nora has a good rapport with the homeless people there. ',\n",
       " \"Liam lives near a co-operative food store, which relies solely on volunteers to operate. Liam has found out that this cooperative store is understaffed and losing money. Liam thinks the store unites the community, so he starts working there on weekends. After Liam starts, the cooperative is no longer understaffed and customers comment on the store's improvements. \",\n",
       " \"Victoria works as a promoter of charitable events. Her organization handles the planning, promotion, and execution for major fundraising events to raise donations. Victoria believes she will not wish to take a percentage of the fundraiser's earnings. She hopes to maximise the money raised at the fundraiser. At Victoria's fundraiser, over $2 million is raised.\",\n",
       " \"Owen's friend has been in a car accident and has lost a considerable amount of blood. The friend has a rare blood type A-B negative which is in low supply at blood banks nearby. Owen's blood type is a perfect match. Owen knows his blood matches his friend's and he donates his blood to the local blood bank. Through Owen's donation, his friend can have a blood transfusion.\",\n",
       " \"On summer break, Luna she spends several days in Haiti with a volunteering organization. She builds shelters for impoverished families in an isolated village. She wants to raise more awareness of the social issues in Haiti, so she decides to Instagram about the experience. Luna's Instagram post gets attention from her social group and the organization gets many more volunteers the next summer.  \",\n",
       " 'John is working at a small camping music festival. When the attendees are packing up to leave, a majority have left their tents behind. John knows it is not his job to clear the campsite, but he spends the rest of the day picking up litter at the festival. It is the first year there is no debris left on the festival site and the wildlife is largely undisturbed.',\n",
       " \"Chloe is in the queue, paying to park her car at a parking lot. The stranger behind her does not have enough change for their ticket. When paying, Chloe does notices the stranger is out of change. Chloe takes her ticket and leaves her change behind. With Chloe's spare change, the stranger behind her is able to pay for their ticket.\",\n",
       " 'Luke is buying their morning coffee before work at a cafe. The cashier thinks Luke and the stranger behind them are paying together, putting through both their orders as one payment. Luke thinks it is nice to buy coffee for someone. He pays for both orders and the stranger gets a free coffee. ',\n",
       " 'Penelope is working in the library. She is writing her senior thesis, which helps determine if she can graduate college. A student, who Penelope does not recognise, walks past and is trying to find their phone. Penelope is concerned and wants to help, so she offers to help the search. After 30 minutes of searching, Penelope finds the lost phone for them under a chair.',\n",
       " 'Natalie has done baking for years. She is always experimenting with new ingredients. Recently, she learns about a bake-sale day at the community center, in aid of the Brain Tumour Foundation. Because Natalie wants to raise as much money as possible, she donates many different cakes to the bake-sale. The bakesale earned over $200 for the Brain Tumour Foundation.',\n",
       " 'Jayden and his girlfriend have just moved in together and Jayden decides to buy a dog to mark the commitment. Firstly, Jayden visits the pet store. He thinks he could give a rescue dog a stable home, so he decides to visit the animal shelter. Jayden adopts a Greyhound, which has been rescued from its abusive owner. ',\n",
       " 'Grayson does not have a long lunch break, so he goes to the takeaway noodle bar. When the server brings the bill, it totals to $7. Grayson checks his wallet and only has a $50 bill. He thinks the server is hardworking and deserving, so he gives the $50 bill to the server. The server takes the change as a tip. He never get tips this high, and believes he has given Grayson great service.',\n",
       " \"Levi checks into their hotel after a long flight. The hotel elevator is out of service, so will have to use the stairs to the tenth floor. At the staircase, another hotel guest is looks like they could easily fall as they struggle to carry their own suitcase up the stairs. Levi believes the other guest is about to injure themselves, so he carries the stranger's suitcase up ten flights of stairs. The guest is thankful to avoid any injuries.\",\n",
       " \"Hannah is out for coffee with an old school friend. Hannah's friend tells her about a charity half-marathon that she has been training for. Hannah believes this marathon woud greatly benefit her chosen charity. Later that year, Hannah's runs the Boston Marathon and raises over $400 for charity.\",\n",
       " \"Recently, Aubrey's two grown-up sons have left home and moved into their own apartments. Aubrey is clearing out her garage and discovers boxes of her sons' toys in the garage that her sons' left behind. She decides to donate the toys. Aubrey knows a hospital desperate for toy donations, so she drops the toys to the children's hospital waiting room.\",\n",
       " 'Issac is a student living in Alaska. It is predicted that the coldest winter on record is approaching, would could lead to a spike in number of deaths of the homeless. They thought their coat could keep the homeless man warm. Later that day, when Issac walks down the highstreet, they take off their only coat and give it to a homeless man.',\n",
       " \"Ellie is walking round the mall doing some window shopping. The mall is very quiet, and she gets approached by a Bone Marrow charity volunteer asking her to sign up. Ellie wants to support the charity's work, so she signs the paperwork. She can be called at any time to be a bone marrow donor which would save someone's life. \",\n",
       " 'Gabriel studies Physics. His college has just introduced a science outreach program and they need help delivering a program to local high schools. Gabriel believes this could help students to pursue science degrees and he signs up. Gabriel volunteers for 10 hours every week, and as a result of his guidance, one of the students applies to college.',\n",
       " \"Julian is one of the best in his class at high school. His younger sibling has been falling behind in class on basic reading and writing. After school one day, their mum suggests that Julian should tutor his younger sibling. Julian thinks the tutoring would help his sibling's school work, so he agrees to it. Every night, Julian spends an hour reading and doing comprehension questions with Gabriel. \",\n",
       " 'It is late at night and Joshua is waiting outside a bar for a taxi. He sees one of their friends is also waiting alone. She has been out drinking and appears very intoxicated. Joshua thinks she may be vulnerable standing alone. Joshua approaches her and offers to share a taxi. She accepts his offer to share a taxi and arrives home safely.',\n",
       " \"Mia is at the traffic lights, to cross the road. She sees a distracted woman standing next to her, with headphones. As the woman walks out into the road, there is an oncoming motorcyclist running the red lights. Mia thinks this woman will get hit, so she shouts for the woman's attention. The woman stops to turn around. The motorcyclist has time to swerve out of the way and the woman does not get hit. \",\n",
       " 'Avery has a job interview. Beforehand, she grabs a snack. There is a long queue at the checkouts and Avery realizes she is running late. The customer in front of them is counting out their total, in loose change and they are still $50 off their total. Because Avery empathises with the customer, she gives the customer the $50. This means that that the stranger can feed their family this week.']"
      ]
     },
     "execution_count": 12,
     "metadata": {},
     "output_type": "execute_result"
    }
   ],
   "source": [
    "intentional"
   ]
  },
  {
   "cell_type": "code",
   "execution_count": 13,
   "metadata": {},
   "outputs": [
    {
     "data": {
      "text/plain": [
       "[\"Joseph is the owner of a large chain of department stores located throughout the Midwest. Recently, Joseph learned about a local children's hospital that was about to declare bankruptcy. Several months later, after he reviewed the annual financial reports, Joseph donated several million dollars to the hospital. \",\n",
       " \"Zoey is entering her college's essay competition, which is offering a prize of $500 to the winner. Her close friend is also competing, but is struggling to know what to write. Zoey has a sandwich and after her lunch, she decides to help her. Because Zoey gave her friend some great ideas, her friend wins the competition.\",\n",
       " 'Nora recently learns her neighbor works part-time at a homeless shelter. The shelter is now accepting new volunteers. Nora leaves work one day and she signs up to work there. The shelter is grateful for having new volunteers and Nora has a good rapport with the homeless people there. ',\n",
       " \"Liam lives near a co-operative food store, which relies solely on volunteers to operate. Liam has found out that this cooperative store is understaffed and losing money. Liam checks his schedule. He starts working there on weekends. After Liam starts, the cooperative is no longer understaffed and customers comment on the store's improvements. \",\n",
       " \"Victoria works as a promoter of charitable events. Her organization handles the planning, promotion, and execution for major fundraising events to raise donations. Victoria books the venue and catering company for the event. She hopes to maximise the money raised at the fundraiser. At Victoria's fundraiser, over $2 million is raised.\",\n",
       " \"Owen's friend has been in a car accident and has lost a considerable amount of blood. The friend has a rare blood type A-B negative which is in low supply at blood banks nearby. Owen's blood type is a perfect match. Owen parks his car in a space in the parking lot and he donates his blood to the local blood bank. Through Owen's donation, his friend can have a blood transfusion.\",\n",
       " \"On summer break, Luna she spends several days in Haiti with a volunteering organization. She builds shelters for impoverished families in an isolated village. She gets a coach back from the airport and she decides to Instagram about the experience. Luna's Instagram post gets attention from her social group and the organization gets many more volunteers the next summer.  \",\n",
       " 'John is working at a small camping music festival. When the attendees are packing up to leave, a majority have left their tents behind. John gets some water from his tent and he spends the rest of the day picking up litter at the festival. It is the first year there is no debris left on the festival site and the wildlife is largely undisturbed.',\n",
       " \"Chloe is in the queue, paying to park her car at a parking lot. The stranger behind her does not have enough change for their ticket. Chloe gets her change and her keys out her bag. Chloe takes her ticket and leaves her change behind. With Chloe's spare change, the stranger behind her is able to pay for their ticket.\",\n",
       " 'Luke is buying their morning coffee before work at a cafe. The cashier thinks Luke and the stranger behind them are paying together, putting through both their orders as one payment. Luke gets his credit card out of his pocket and pays for both orders. He pays for both orders and the stranger gets a free coffee. ',\n",
       " 'Penelope is working in the library. She is writing her senior thesis, which helps determine if she can graduate college. A student, who Penelope does not recognise, walks past and is trying to find their phone. Penelope looks up from her computer screen and she offers to help the search. After 30 minutes of searching, Penelope finds the lost phone for them under a chair.',\n",
       " 'Natalie has done baking for years. She is always experimenting with new ingredients. Recently, she learns about a bake-sale day at the community center, in aid of the Brain Tumour Foundation. Natalie buys enough ingredients at the store and she donates many different cakes to the bake-sale. The bakesale earned over $200 for the Brain Tumour Foundation.',\n",
       " 'Jayden and his girlfriend have just moved in together and Jayden decides to buy a dog to mark the commitment. Firstly, Jayden visits the pet store. He leaves the pet store, gets back in the car and he decides to visit the animal shelter. Jayden adopts a Greyhound, which has been rescued from its abusive owner. ',\n",
       " 'Grayson does not have a long lunch break, so he goes to the takeaway noodle bar. When the server brings the bill, it totals to $7. Grayson checks his wallet and only has a $50 bill. He gets some cultery and napkins and he gives the $50 bill to the server. The server takes the change as a tip. He never get tips this high, and believes he has given Grayson great service.',\n",
       " \"Levi checks into their hotel after a long flight. The hotel elevator is out of service, so will have to use the stairs to the tenth floor. At the staircase, another hotel guest is looks like they could easily fall as they struggle to carry their own suitcase up the stairs. Levi adjusts the straps on his luggage and he carries the stranger's suitcase up ten flights of stairs. The guest is thankful to avoid any injuries.\",\n",
       " \"Hannah is out for coffee with an old school friend. Hannah's friend tells her about a charity half-marathon that she has been training for. Hannah starts training and eating a high protein diet. Later that year, Hannah's runs the Boston Marathon and raises over $400 for charity.\",\n",
       " \"Recently, Aubrey's two grown-up sons have left home and moved into their own apartments. Aubrey is clearing out her garage and discovers boxes of her sons' toys in the garage that her sons' left behind. She decides to donate the toys. She packs the toys up and putting them in the car and drops the toys to a children's hospital waiting room. \",\n",
       " 'Issac is a student living in Alaska. It is predicted that the coldest winter on record is approaching, would could lead to a spike in number of deaths of the homeless. They have class across town during the afternoon that day. Later that day, when Issac walks down the highstreet, they take off their only coat and give it to a homeless man.',\n",
       " \"Ellie is walking round the mall doing some window shopping. The mall is very quiet, and she gets approached by a Bone Marrow charity volunteer asking her to sign up. Ellie is handed a pen by the volunteer and she signs the paperwork. She can be called at any time to be a bone marrow donor which would save someone's life. \",\n",
       " 'Gabriel studies Physics. His college has just introduced a science outreach program and they need help delivering a program to local high schools. After class, Gabriel buys a takeaway coffee and decides to sign up. Gabriel volunteers for 10 hours a week for a whole semester and one of his students applies to college because of his guidance.',\n",
       " 'Julian is one of the best in his class at high school. His younger sibling has been falling behind in class on basic reading and writing. After school one day, their mum suggests that Julian should tutor his younger sibling. They are eating together as a family and he agrees to it. Every night, Julian spends an hour reading and doing comprehension questions with Gabriel. ',\n",
       " 'It is late at night and Joshua is waiting outside a bar for a taxi. One of their female friends is also waiting alone. She has also been out drinking and appears very intoxicated. Joshua puts his coat on and zips it up. Joshua approaches her and offers to share a taxi. She accepts his offer to share a taxi and arrives home safely.',\n",
       " \"Mia is the traffic lights, to cross the road. She sees a distracted man standing next to her, with headphones. As the woman walks out into the road, there is an oncoming motorcyclist running the red lights. Mia ties her shoe laces and she shouts for the woman's attention. The woman stops to turn around. The motorcyclist has time to swerve out of the way and the woman does not get hit.\",\n",
       " 'Avery has a job interview. Beforehand, she grabs a snack. There is a long queue at the checkouts and Avery realizes she is running late. The customer in front of them is counting out their total, in loose change and they are still $50 off their total. Anthony unloads his shopping from his cart and he gives the customer the $50. This means that that the stranger can feed their family this week.']"
      ]
     },
     "execution_count": 13,
     "metadata": {},
     "output_type": "execute_result"
    }
   ],
   "source": [
    "ambiguous"
   ]
  },
  {
   "cell_type": "code",
   "execution_count": 14,
   "metadata": {},
   "outputs": [
    {
     "data": {
      "text/plain": [
       "['Joseph',\n",
       " 'Zoey',\n",
       " 'Nora ',\n",
       " 'Liam',\n",
       " 'Victoria',\n",
       " 'Owen ',\n",
       " 'Luna',\n",
       " 'John ',\n",
       " 'Chloe ',\n",
       " 'Luke ',\n",
       " 'Penelope ',\n",
       " 'Natalie ',\n",
       " 'Jayden ',\n",
       " 'Grayson ',\n",
       " 'Levi',\n",
       " 'Hannah ',\n",
       " 'Aubrey',\n",
       " 'Isaac',\n",
       " 'Ellie',\n",
       " 'Gabriel',\n",
       " 'Julian',\n",
       " 'Joshua',\n",
       " 'Mia',\n",
       " 'Avery']"
      ]
     },
     "execution_count": 14,
     "metadata": {},
     "output_type": "execute_result"
    }
   ],
   "source": [
    "actor"
   ]
  },
  {
   "cell_type": "code",
   "execution_count": 15,
   "metadata": {},
   "outputs": [
    {
     "data": {
      "text/plain": [
       "[\"Children's hospital\",\n",
       " 'Essay writing ',\n",
       " 'Homeless shelter',\n",
       " 'Liam ',\n",
       " 'Charity events promoter ',\n",
       " 'Blood',\n",
       " 'Haiti ',\n",
       " 'Tents',\n",
       " 'Parking ticket',\n",
       " 'Coffee',\n",
       " 'Senior thesis',\n",
       " 'Bake sale ',\n",
       " 'Pet store ',\n",
       " 'Noodle bar',\n",
       " 'Elevator',\n",
       " 'Boston Marathon ',\n",
       " \"Aubrey's sons \",\n",
       " 'A coat',\n",
       " 'Bone Marrow',\n",
       " 'Physics',\n",
       " 'Reading and writing',\n",
       " 'Bar crawl',\n",
       " 'Road crossing ',\n",
       " 'Job interview ']"
      ]
     },
     "execution_count": 15,
     "metadata": {},
     "output_type": "execute_result"
    }
   ],
   "source": [
    "answer1"
   ]
  },
  {
   "cell_type": "code",
   "execution_count": 16,
   "metadata": {},
   "outputs": [
    {
     "data": {
      "text/plain": [
       "['Animal hospital ',\n",
       " 'Marathon ',\n",
       " 'Food bank ',\n",
       " 'Madison ',\n",
       " 'Nightclub promoter ',\n",
       " 'Kidney ',\n",
       " 'Australia ',\n",
       " 'Phones',\n",
       " 'Car wash  ',\n",
       " 'Muffin ',\n",
       " 'Poetry',\n",
       " 'Clothing swap ',\n",
       " 'Dog show',\n",
       " 'Sandwich shop',\n",
       " 'Vending machine',\n",
       " 'New York Marathon',\n",
       " \"Children's hospital\",\n",
       " 'Money',\n",
       " 'Blood ',\n",
       " 'History',\n",
       " 'Gym class',\n",
       " 'Train station ',\n",
       " 'Community centre ',\n",
       " 'Dinner plans']"
      ]
     },
     "execution_count": 16,
     "metadata": {},
     "output_type": "execute_result"
    }
   ],
   "source": [
    "answer2"
   ]
  },
  {
   "cell_type": "code",
   "execution_count": 17,
   "metadata": {},
   "outputs": [
    {
     "data": {
      "text/plain": [
       "['Psychiatric hospital ',\n",
       " 'Spelling bee',\n",
       " 'Local school ',\n",
       " 'Louis ',\n",
       " 'Wedding planner ',\n",
       " 'Bone marrow ',\n",
       " 'Kenya ',\n",
       " 'Tickets ',\n",
       " 'Car insurance ',\n",
       " 'Sandwich ',\n",
       " 'Apology letter',\n",
       " nan,\n",
       " 'Dog groomers',\n",
       " 'Michelin star restaurant',\n",
       " 'Hotel doors ',\n",
       " 'New Jersey Marathon ',\n",
       " 'Aubrey ',\n",
       " 'Food',\n",
       " 'Organs ',\n",
       " 'Maths',\n",
       " 'Mathematics',\n",
       " 'Taxi rank ',\n",
       " 'By his motorcycle ',\n",
       " 'Train ']"
      ]
     },
     "execution_count": 17,
     "metadata": {},
     "output_type": "execute_result"
    }
   ],
   "source": [
    "answer3"
   ]
  },
  {
   "cell_type": "code",
   "execution_count": 18,
   "metadata": {},
   "outputs": [
    {
     "data": {
      "text/plain": [
       "['What kind of hospital did Alexander donate to? ',\n",
       " 'What competition is Zoey entering?',\n",
       " 'Where does Nora volunteer? ',\n",
       " 'Where does Liam volunteer?',\n",
       " 'What job does Victoria have?  ',\n",
       " 'What does Owen donate?',\n",
       " 'What does Luna go on her summer break? ',\n",
       " 'What did festival attendees leave behind? ',\n",
       " 'What is Chloe paying for? ',\n",
       " 'What does Luke order?',\n",
       " 'What is Penelope writing? ',\n",
       " 'What charity event did Natalie donate to?  ',\n",
       " 'Where do they visit first? ',\n",
       " 'Where does Grayson go for lunch?',\n",
       " 'What does Levi carry for the hotel guest? ',\n",
       " 'What marathon does Hannah run? ',\n",
       " 'Who did the toys first belong to? ',\n",
       " 'What does Issac give to the homeless man? ',\n",
       " 'What did Ellie sign up to donate? ',\n",
       " \"What is Gabriel's major? \",\n",
       " \"What is Julian's sibling falling behind in? \",\n",
       " 'Where has Joshua been? ',\n",
       " 'Where is Mia waiting?  ',\n",
       " 'What is Avery running late for? ']"
      ]
     },
     "execution_count": 18,
     "metadata": {},
     "output_type": "execute_result"
    }
   ],
   "source": [
    "comprehension"
   ]
  },
  {
   "cell_type": "code",
   "execution_count": null,
   "metadata": {},
   "outputs": [],
   "source": []
  }
 ],
 "metadata": {
  "kernelspec": {
   "display_name": "Python 3",
   "language": "python",
   "name": "python3"
  },
  "language_info": {
   "codemirror_mode": {
    "name": "ipython",
    "version": 3
   },
   "file_extension": ".py",
   "mimetype": "text/x-python",
   "name": "python",
   "nbconvert_exporter": "python",
   "pygments_lexer": "ipython3",
   "version": "3.7.4"
  }
 },
 "nbformat": 4,
 "nbformat_minor": 2
}
