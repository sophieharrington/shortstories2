{
 "cells": [
  {
   "cell_type": "code",
   "execution_count": 13,
   "metadata": {},
   "outputs": [],
   "source": [
    "import pandas as pd"
   ]
  },
  {
   "cell_type": "code",
   "execution_count": 14,
   "metadata": {},
   "outputs": [],
   "source": [
    "df = pd.read_csv('Moral narratives vignettes - praise_vignettes_clean.csv', encoding = 'utf-8-sig', lineterminator = '\\n')"
   ]
  },
  {
   "cell_type": "code",
   "execution_count": 15,
   "metadata": {},
   "outputs": [
    {
     "data": {
      "text/plain": [
       "['Unintentional good',\n",
       " 'Intentional good',\n",
       " 'Ambiguous belief',\n",
       " 'Comprehension question',\n",
       " 'MCQ Answer',\n",
       " 'MCQ Option 2',\n",
       " 'MCQ Option 3',\n",
       " 'Actor',\n",
       " 'Gender',\n",
       " 'Adapted from',\n",
       " 'Year',\n",
       " 'doi\\r']"
      ]
     },
     "execution_count": 15,
     "metadata": {},
     "output_type": "execute_result"
    }
   ],
   "source": [
    "list(df)"
   ]
  },
  {
   "cell_type": "code",
   "execution_count": 16,
   "metadata": {},
   "outputs": [],
   "source": [
    "unintentional = list(df['Unintentional good'])\n",
    "intentional = list(df['Intentional good'])\n",
    "ambiguous = list(df['Ambiguous belief'])\n",
    "comprehension = list(df['Comprehension question'])\n",
    "actor = list(df['Actor'])\n",
    "answer1 = list(df['MCQ Answer'])\n",
    "answer2 = list(df['MCQ Option 2'])\n",
    "answer3 = list(df['MCQ Option 3'])"
   ]
  },
  {
   "cell_type": "code",
   "execution_count": 17,
   "metadata": {},
   "outputs": [
    {
     "data": {
      "text/plain": [
       "[\"Joseph is the owner of a large chain of department stores located throughout the Midwest. Recently, Joseph learned about a local children's hospital that was about to declare bankruptcy. Because he believed it would boost the reputation of his company, Joseph donated several million dollars to the hospital.\",\n",
       " \"Zoey is entering her college's essay competition, which awards a prize of $500 to one winner. Her close friend is also competing, but is struggling to know what to write. Because Zoey wants her friend to stop asking for help, she decides to help her with her essay. Zoey gave her friend some great ideas, so her friend wins the competition.\",\n",
       " \"Nora's neighbor volunteers part-time at a homeless shelter. The shelter is now accepting new volunteers. Nora thinks volunteering will impress her attractive neighbor and she signs up to work there. The shelter is grateful for having new volunteers and Nora takes good care of the homeless people there.\",\n",
       " \"Victoria works as a promoter of charitable events. Her organization handles plans and promotes major fundraising events to raise donations. Victoria believes she will earn a percentage of the fundraiser's earnings and she works hard for the next fundraiser. The event raises over $2 million for charity. \",\n",
       " \"Owen's friend has just been in a car accident and lost a considerable amount of blood. His friend has a rare blood type A-B negative which is in low supply at blood banks nearby. Owen's blood type is a perfect match. Owen knows he could get paid to donate blood and he donates his blood to the local blood bank. Through Owen's donation, his friend can have a blood transfusion.\",\n",
       " \"Luna spends several days in Haiti with a volunteering organization, building shelter for impoverished families. She thinks she looks good in the photographs taken on the trip and she decides to blog about the experience. Luna's blog post gets a lot of attention online and as a result the organization gets many more volunteers. \",\n",
       " \"Chloe is in the queue to pay for her car parking ticket. The stranger behind her does not have enough change for their ticket. When paying, Chloe does not think she has any change. Chloe takes her ticket and leaves her change. With Chloe's spare change, the stranger behind her is able to pay for their ticket.\",\n",
       " \"Penelope is studying in the library, the night before her final exam. Nearby, a student is searching for their phone. Penelope thinks she has dropped her pen. Penelope looks on the floor and she finds the student's lost phone under a chair. The student appreciates her help.\",\n",
       " 'Natalie has been baking for years and always experiments with new ingredients. Recently, she learns about a bake-sale at the community center, in aid of the Brain Tumour Foundation. Because Natalie believes this bake-sale will mean she can try out new receipes, she donates many different cakes to the bake-sale. The bakesale earned over $200. ',\n",
       " 'Jayden and his girlfriend have just moved in together and want to buy a dog. Jayden visits the pet store. He thinks buying a rescue dog is cheaper than the pet store, so he decides to visit the animal shelter. Jayden adopts a Greyhound, which has been rescued from its abusive owner. ',\n",
       " \"Grayson is on his lunch break and he walks to a noodle bar. When the server brings the bill, it totals to $7. Grayson checks his wallet and only has a $50 bill. He thinks the server is going to give him change. Grayson gives the $50 bill to the server. The server takes the $50 and the server's manager congratulates him for being a giving good service. \",\n",
       " \"Liam lives near a co-operative food store, which relies soley on volunteers. It is understaffed and in danger of closing down. Liam thinks the store offers employee discount. He starts working there every weekends. After Liam starts, the cooperative is making money and customers comment on the store's improvements. \",\n",
       " \"Hannah is out for coffee with an old school friend. Hannah's friend tells her about a charity half-marathon that she has been training for. Hannah believes this marathon would greatly improve her physical fitness. She registers for the Boston Marathon. Later that year, when Hannah's runs the Boston Marathon, she raises over $400 for charity.\",\n",
       " \"Levi is checking into their hotel. The hotel elevator is out of service, so will have to use the very steep stairs to the tenth floor. At the staircase, another hotel guest is slowly walking in front of them with their luggage. Levi believes the other guest will keep them waiting too long. Levi offers to carry the guest's suitcase up ten flights of stairs. The guest accepts and is thankful to avoid any injuries.\",\n",
       " \"Issac lives in Minnesota. The coldest winter on record is approaching. Issac thought their winter coat was old and wanted to throw it out. When Issac is walking down the street that day, they take off their only coat and give it to a homeless man. Without Issac's coat the homeless man would not have survived the winter. \",\n",
       " \"Ellie is walking round the mall doing some window shopping. The mall is very quiet, and she gets approached by a bone marrow charity volunteer. Ellie wants the volunteer to leave them alone, so she signs the paperwork. She can be called at any time to be a bone marrow donor which would save someone's life. \",\n",
       " 'Gabriel studies Physics at college. His department has introduced an outreach program for local high schools, which needs student volunteers. Gabriel believes this would be an easy way to earn course credit and he signs up to the program. Gabriel volunteers for the program every week, and with his guidance, 3 students apply to college.',\n",
       " \"Julian is top of his English class at high school.  His younger brother is falling behind in class on learning to read and write. Because Julian thinks their mum will pay him if he starts tutoring his brother, he offers to help. Every night, Julian spends an hour practicing reading and writing with his brother. Later that year, Julian's brother excels in class.\",\n",
       " 'Late at night, Joshua is waiting outside a bar for a taxi. Joshua sees one of his female friends who has been out drinking is also waiting alone. Joshua thinks she may be flirting with him. Joshua approaches her and offers to share a taxi. She accepts his offer to share a taxi and arrives home safely.',\n",
       " \"Mia is waiting to cross the road at the traffic lights. Next to her, a woman walks out into the road as there is a motorcyclist running the red lights. Mia believes this woman is her neighbor, so she shouts for the woman's attention. The woman stops to turn around. The motorcyclist now has time to swerve out of the way of the woman.\",\n",
       " 'Avery has a job interview. Beforehand, she grabs a snack. There is a long queue at the checkouts. The customer in front of Avery has a large cart of shopping but is counting out their total bill in loose change. Because Avery is anxious to get to the front of the queue, she gives the customer $50. This means that that the customer can feed their family this week. ']"
      ]
     },
     "execution_count": 17,
     "metadata": {},
     "output_type": "execute_result"
    }
   ],
   "source": [
    "unintentional"
   ]
  },
  {
   "cell_type": "code",
   "execution_count": 18,
   "metadata": {},
   "outputs": [
    {
     "data": {
      "text/plain": [
       "[\"Joseph is the owner of a large chain of department stores located throughout the Midwest. Recently, Joseph learned about a local children's hospital that was about to declare bankruptcy. Because he believed the children's hospital was making a real difference, Joseph donated several million dollars to the hospital.\",\n",
       " \"Zoey is entering her college's essay competition, which awards a prize of $500 to one winner. Her close friend is also competing, but is struggling to know what to write. Because Zoey wants to help her friend do well, she decides to help her with her essay. Zoey gave her friend some great ideas, so her friend wins the competition.\",\n",
       " \"Nora's neighbor volunteers part-time at a homeless shelter. The shelter is now accepting new volunteers. Nora thinks volunteering will benefit the local homeless people and she signs up to work there. The shelter is grateful for having new volunteers and Nora takes good care of the homeless people there. \",\n",
       " \"Victoria works as a promoter of charitable events. Her organization handles plans and promotes major fundraising events to raise donations. Victoria believes she will not earn a percentage of the fundraiser's earnings and she works hard for the next fundraiser. The event raises over $2 million for charity. \",\n",
       " \"Owen's friend has just been in a car accident and lost a considerable amount of blood. The friend has a rare blood type A-B negative which is in low supply at blood banks nearby. Owen's blood type is a perfect match. Owen knows his blood matches his friend's and he donates his blood to the local blood bank. Through Owen's donation, his friend can have a blood transfusion.\",\n",
       " \"Luna spends several days in Haiti with a volunteering organization, building shelter for impoverished families. She thinks she could help raise awareness of the organization, so she decides to blog about the experience. Luna's blog post gets a lot of attention online and as a result the organization gets many more volunteers. \",\n",
       " \"Chloe is in the queue to pay for her car parking ticket. The stranger behind her does not have enough change for their ticket. When paying, Chloe thinks the stranger is out of change. Chloe takes her ticket and leaves her change. With Chloe's spare change, the stranger behind her is able to pay for their ticket.\",\n",
       " \"Penelope is studying in the library, the night before her final exam. Nearby, a student is searching for their phone. Penelope thinks she could help the search. Penelope looks on the floor and finds the student's lost phone under a chair. The student appreciates her help.\",\n",
       " 'Natalie has been baking for years and always experiments with new ingredients. Recently, she learns about a bake-sale at the community center, in aid of the Brain Tumour Foundation. Because Natalie believes this charity really needs her support, she donates many different cakes to the bake-sale. The charity bakesale earned over $200.',\n",
       " 'Jayden and his girlfriend have just moved in together and want to buy a dog. Jayden visits the pet store. He thinks they could give a rescue dog a caring home, so he decides to visit the animal shelter. Jayden adopts a Greyhound, which has been rescued from its abusive owner. ',\n",
       " \"Grayson is on his lunch break and he walks to a noodle bar. When the server brings the bill, it totals to $7. Grayson checks his wallet and only has a $50 bill. He thinks the server is hardworking and deserving. Grayson gives the $50 bill to the server. The server takes the $50 and the server's manager congratulates him for being a giving good service. \",\n",
       " \"Liam lives near a co-operative food store, which relies soley on volunteers. It is understaffed and in danger of closing down. Liam thinks the store unites the community, so he starts working there on weekends. After Liam starts, the cooperative is making money and customers comment on the store's improvements. \",\n",
       " \"Hannah is out for coffee with an old school friend. Hannah's friend tells her about a charity half-marathon that she has been training for. Hannah believes this marathon woud greatly benefit her chosen charity. She registers for the Boston Marathon. Later that year, when Hannah's runs the Boston Marathon, she raises over $400 for charity.\",\n",
       " \"Levi is checking into their hotel. The hotel elevator is out of service, so will have to use the very steep stairs to the tenth floor. At the staircase, another hotel guest is slowly walking in front of them with their luggage. Levi believes the other guest is about to injure themselves. Levi offers to carry the guest's suitcase up ten flights of stairs. The guest accepts and is thankful to avoid any injuries.\",\n",
       " \"Issac lives in Minnesota. The coldest winter on record is approaching. Issac thought donating their winter coat could help someone. When Issac is walking down the street that day, they take off their only coat and give it to a homeless man. Without Issac's coat the homeless man would not have survived the winter. \",\n",
       " \"Ellie is walking round the mall doing some window shopping. The mall is very quiet, and she gets approached by a Bone Marrow charity volunteer. Ellie wants to support the charity's work, so she signs the paperwork. She can be called at any time to be a bone marrow donor which would save someone's life. \",\n",
       " 'Gabriel studies Physics at college. His department has introduced an outreach program for local high schools, which needs student volunteers. Gabriel believes this could help students to pursue science degrees and he signs up. Gabriel volunteers for the program every week, and with his guidance, 3 students apply to college.',\n",
       " \"Julian is top of his English class at high school. His younger brother is falling behind in class on learning to read and write. Because Julian thinks that his brother could use some extra English practice, he offers to help. Every night, Julian spends an hour practicing reading and writing with his brother. Later that year, Julian's brother excels in class.\",\n",
       " 'Late at night, Joshua is waiting outside a bar for a taxi. Joshua sees one of his female friends who has been out drinking is also waiting alone. Joshua thinks she may be vulnerable standing alone. Joshua approaches her and offers to share a taxi. She accepts his offer to share a taxi and arrives home safely.',\n",
       " \"Mia is waiting to cross the road at the traffic lights. Next to her, a woman walks out into the road as there is a motorcyclist running the red lights. Mia believes this woman will get run over, so she shouts for the woman's attention. The woman stops to turn around. The motorcyclist now has time to swerve out of the way of the woman.\",\n",
       " 'Avery has a job interview. Beforehand, she grabs a snack. There is a long queue at the checkouts. The customer in front of Avery has a large cart of shopping but is counting out their total bill in loose change. Because Avery empathises with the customer, she gives the customer the $50. This means that that the stranger can feed their family this week. ']"
      ]
     },
     "execution_count": 18,
     "metadata": {},
     "output_type": "execute_result"
    }
   ],
   "source": [
    "intentional"
   ]
  },
  {
   "cell_type": "code",
   "execution_count": 19,
   "metadata": {},
   "outputs": [
    {
     "data": {
      "text/plain": [
       "[\"Joseph is the owner of a large chain of department stores located throughout the Midwest. Recently, Joseph learned about a local children's hospital that was about to declare bankruptcy. Several months later, after he reviewed the annual financial reports, Joseph donated several million dollars to the hospital. \",\n",
       " \"Zoey is entering her college's essay competition, which awards a prize of $500 to one winner. Her close friend is also competing, but is struggling to know what to write. Zoey has a sandwich for lunch and afterwards she has eaten, she decides to help her. Zoey gave her friend some great ideas, so her friend wins the competition.\",\n",
       " \"Nora's neighbor volunteers part-time at a homeless shelter. The shelter is now accepting new volunteers. One day, Nora looks at the availability on her schedule and she signs up to work there. The shelter is grateful for having new volunteers and Nora takes good care of the homeless people there. \",\n",
       " 'Victoria works as a promoter of charitable events. Her organization handles plans and promotes major fundraising events to raise donations. Victoria confirms the bookings for the venue and catering company for an event. She works hard at the next fundraiser. The event raises over $2 million for charity. ',\n",
       " \"Owen's friend has just been in a car accident and lost a considerable amount of blood. The friend has a rare blood type A-B negative which is in low supply at blood banks nearby. Owen's blood type is a perfect match. Owen parks his car in the parking lot and he donates his blood to the local blood bank. Through Owen's donation, his friend can have a blood transfusion.\",\n",
       " \"Luna spends several days in Haiti with a volunteering organization, building shelter for impoverished families. Afterwards, she gets on a coach to return home from the airport and she decides to blog about the experience. Luna's blog post gets a lot of attention online and as a result the organization gets many more volunteers. \",\n",
       " \"Chloe is in the queue to pay for her car parking ticket. The stranger behind her does not have enough change for their ticket. Chloe gets her change and her keys out her bag. Chloe takes her ticket and leaves her change. With Chloe's spare change, the stranger behind her is able to pay for their ticket.\",\n",
       " \"Penelope is studying in the library, the night before her final exam. Nearby, a student is searching for their phone. Penelope highlights her study notes. Penelope looks on the floor and finds the student's lost phone under a chair. The student appreciates her help.\",\n",
       " 'Natalie has been baking for years and always experiments with new ingredients. Recently, she learns about a bake-sale at the community center, in aid of the Brain Tumour Foundation. Natalie buys enough cake ingredients at the grocery store and she donates many different cakes to the bake-sale. The bakesale earned over $200. ',\n",
       " 'Jayden and his girlfriend have just moved in together and want to buy a dog. Jayden visits the pet store. He gets his car keys from his coat pocket and he decides to visit the animal shelter. Jayden adopts a Greyhound, which has been rescued from its abusive owner. ',\n",
       " \"Grayson is on his lunch break and he walks to a noodle bar. When the server brings the bill, it totals to $7. Grayson checks his wallet and only has a $50 bill. He gets some cultery and napkins and he gives the $50 bill to the server. The server takes the $50 and the server's manager congratulates him for being a giving good service. \",\n",
       " \"Liam lives near a co-operative food store, which relies solely on volunteers. It is understaffed and in danger of closing down. Liam walks past the store one day on his way home. He starts working there on weekends. After Liam starts, the cooperative is making money and customers comment on the store's improvements. \",\n",
       " \"Hannah is out for coffee with an old school friend. Hannah's friend tells her about a charity half-marathon that she has been training for. Hannah finishes her coffee and arrives home. She registers for the Boston Marathon. Later that year, when Hannah's runs the Boston Marathon, she raises over $400 for charity.\",\n",
       " \"Levi is checking into their hotel. The hotel elevator is out of service, so will have to use the very steep stairs to the tenth floor. At the staircase, another hotel guest is slowly walking in front of them with their luggage. Levi adjusts the straps on his luggage. Levi offers to carry the guest's suitcase up ten flights of stairs. The guest accepts and is thankful to avoid any injuries.\",\n",
       " \"Issac lives in Minnesota. The coldest winter on record is approaching. Issac leaves the house to put up some groceries. When Issac is walking down the street that day, they take off their only coat and give it to a homeless man. Without Issac's coat the homeless man would not have survived the winter. \",\n",
       " \"Ellie is walking round the mall doing some window shopping. The mall is very quiet, and she gets approached by a Bone Marrow charity volunteer. Ellie is handed a pen by the volunteer and she signs the paperwork. She can be called at any time to be a bone marrow donor which would save someone's life. \",\n",
       " 'Gabriel studies Physics at college. His department has introduced an outreach program for local high schools, which needs student volunteers. Gabriel buys a coffee at the cafe on campus and he signs up. Gabriel volunteers for the program every week, and with his guidance, 3 students apply to college.',\n",
       " \"Julian is top of his English class at high school. His younger brother is falling behind in class on learning to read and write. On Tuesday, Julian comes home after a day of school and he offers to help. Every night, Julian spends an hour practicing reading and writing with his brother. Later that year, Julian's brother excels in his class.\",\n",
       " 'Late at night, Joshua is waiting outside a bar for a taxi. Joshua sees one of his female friends who has been out drinking is also waiting alone. Joshua puts his coat on and zips it up. Joshua approaches her and offers to share a taxi. She accepts his offer to share a taxi and arrives home safely.',\n",
       " \"Mia is waiting to cross the road at the traffic lights. Next to her, a woman walks out into the road as there is a motorcyclist running the red lights. Mia puts her bags on the ground and she shouts for the woman's attention. The woman stops to turn around. The motorcyclist now has time to swerve out of the way of the woman.\",\n",
       " 'Avery has a job interview. Beforehand, she grabs a snack. There is a long queue at the checkouts. The customer in front of Avery has a large cart of shopping but is counting out their total bill in loose change. Avery unloads her shopping from her cart and she gives the customer the $50. This means that that the stranger can feed their family this week. ']"
      ]
     },
     "execution_count": 19,
     "metadata": {},
     "output_type": "execute_result"
    }
   ],
   "source": [
    "ambiguous"
   ]
  },
  {
   "cell_type": "code",
   "execution_count": 20,
   "metadata": {},
   "outputs": [
    {
     "data": {
      "text/plain": [
       "['Joseph',\n",
       " 'Zoey',\n",
       " 'Nora ',\n",
       " 'Victoria',\n",
       " 'Owen ',\n",
       " 'Luna',\n",
       " 'Chloe ',\n",
       " 'Penelope ',\n",
       " 'Natalie ',\n",
       " 'Jayden ',\n",
       " 'Grayson ',\n",
       " 'Liam',\n",
       " 'Hannah ',\n",
       " 'Levi',\n",
       " 'Isaac',\n",
       " 'Ellie',\n",
       " 'Gabriel',\n",
       " 'Julian',\n",
       " 'Joshua',\n",
       " 'Mia',\n",
       " 'Avery']"
      ]
     },
     "execution_count": 20,
     "metadata": {},
     "output_type": "execute_result"
    }
   ],
   "source": [
    "actor"
   ]
  },
  {
   "cell_type": "code",
   "execution_count": 21,
   "metadata": {},
   "outputs": [
    {
     "data": {
      "text/plain": [
       "[\"Children's hospital\",\n",
       " 'Essay writing ',\n",
       " 'Homeless shelter',\n",
       " 'Charity events promoter ',\n",
       " 'Blood',\n",
       " 'Haiti ',\n",
       " 'Parking ticket',\n",
       " 'Library ',\n",
       " 'Bake sale ',\n",
       " 'Pet store ',\n",
       " 'Noodle bar',\n",
       " 'Co-operative',\n",
       " 'Boston Marathon ',\n",
       " 'Luggage ',\n",
       " 'Coat',\n",
       " 'Bone Marrow',\n",
       " 'Physics',\n",
       " 'Reading and writing  ',\n",
       " 'Taxi ',\n",
       " 'Road crossing ',\n",
       " 'Job interview ']"
      ]
     },
     "execution_count": 21,
     "metadata": {},
     "output_type": "execute_result"
    }
   ],
   "source": [
    "answer1"
   ]
  },
  {
   "cell_type": "code",
   "execution_count": 22,
   "metadata": {},
   "outputs": [
    {
     "data": {
      "text/plain": [
       "['Animal hospital ',\n",
       " 'Marathon ',\n",
       " 'Food bank ',\n",
       " 'Nightclub promoter ',\n",
       " 'Kidney ',\n",
       " 'Australia ',\n",
       " 'Car wash  ',\n",
       " 'Cafe',\n",
       " 'Clothing swap ',\n",
       " 'Dog show',\n",
       " 'Sandwich shop',\n",
       " 'Thrift shop',\n",
       " 'New York Marathon',\n",
       " 'Grocery shopping',\n",
       " 'Money',\n",
       " 'Blood ',\n",
       " 'History',\n",
       " 'Gym class',\n",
       " 'Train  ',\n",
       " 'Bus stop ',\n",
       " 'Dinner plans']"
      ]
     },
     "execution_count": 22,
     "metadata": {},
     "output_type": "execute_result"
    }
   ],
   "source": [
    "answer2"
   ]
  },
  {
   "cell_type": "code",
   "execution_count": 23,
   "metadata": {},
   "outputs": [
    {
     "data": {
      "text/plain": [
       "['Psychiatric hospital ',\n",
       " 'Spelling bee',\n",
       " 'Local school ',\n",
       " 'Wedding planner ',\n",
       " 'Bone marrow ',\n",
       " 'Kenya ',\n",
       " 'Car insurance ',\n",
       " 'At home ',\n",
       " 'Fun run ',\n",
       " 'Dog groomers',\n",
       " 'Michelin star restaurant',\n",
       " 'Animal shelter ',\n",
       " 'New Jersey Marathon ',\n",
       " 'Sports equipment',\n",
       " 'Food',\n",
       " 'Organs ',\n",
       " 'Maths',\n",
       " 'Mathematics',\n",
       " 'Bus',\n",
       " 'Home',\n",
       " 'Shopping']"
      ]
     },
     "execution_count": 23,
     "metadata": {},
     "output_type": "execute_result"
    }
   ],
   "source": [
    "answer3"
   ]
  },
  {
   "cell_type": "code",
   "execution_count": 24,
   "metadata": {},
   "outputs": [
    {
     "data": {
      "text/plain": [
       "['What kind of hospital did Alexander donate to? ',\n",
       " 'What competition is Zoey entering?',\n",
       " 'Where does Nora volunteer? ',\n",
       " 'What job does Victoria have?  ',\n",
       " 'What does Owen donate?',\n",
       " 'What does Luna go volunteering? ',\n",
       " 'What is Chloe paying for? ',\n",
       " 'Where is Penelope studying?',\n",
       " 'What charity event did Natalie donate to?  ',\n",
       " 'Where do they visit first? ',\n",
       " 'Where does Grayson go for lunch?',\n",
       " 'Where does Liam volunteer?',\n",
       " 'What marathon does Hannah run? ',\n",
       " 'What does Levi carry for the hotel guest? ',\n",
       " 'What does Issac give to the homeless man? ',\n",
       " 'What did Ellie sign up to donate? ',\n",
       " \"What is Gabriel's major? \",\n",
       " \"What is Julian's tutoring? \",\n",
       " 'What is Joshua waiting for? ',\n",
       " 'Where is Mia waiting?  ',\n",
       " 'What is Avery late for? ']"
      ]
     },
     "execution_count": 24,
     "metadata": {},
     "output_type": "execute_result"
    }
   ],
   "source": [
    "comprehension"
   ]
  },
  {
   "cell_type": "code",
   "execution_count": null,
   "metadata": {},
   "outputs": [],
   "source": []
  }
 ],
 "metadata": {
  "kernelspec": {
   "display_name": "Python 3",
   "language": "python",
   "name": "python3"
  },
  "language_info": {
   "codemirror_mode": {
    "name": "ipython",
    "version": 3
   },
   "file_extension": ".py",
   "mimetype": "text/x-python",
   "name": "python",
   "nbconvert_exporter": "python",
   "pygments_lexer": "ipython3",
   "version": "3.7.4"
  }
 },
 "nbformat": 4,
 "nbformat_minor": 2
}
